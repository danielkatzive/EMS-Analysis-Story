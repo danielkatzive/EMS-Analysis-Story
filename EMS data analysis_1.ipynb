{
 "cells": [
  {
   "cell_type": "code",
   "execution_count": 1,
   "id": "8ff762ae",
   "metadata": {},
   "outputs": [],
   "source": [
    "import pandas as pd\n",
    "from datetime import datetime\n",
    "pd.options.display.float_format='{:,.0f}'.format\n",
    "import numpy as np\n",
    "\n"
   ]
  },
  {
   "cell_type": "code",
   "execution_count": 2,
   "id": "1b9a6186",
   "metadata": {},
   "outputs": [],
   "source": [
    "df = pd.read_csv(\"EMS_Incident_Dispatch_Data.csv\")"
   ]
  },
  {
   "cell_type": "code",
   "execution_count": null,
   "id": "ea426f4b",
   "metadata": {},
   "outputs": [],
   "source": [
    "df"
   ]
  },
  {
   "cell_type": "code",
   "execution_count": null,
   "id": "cc9d676c",
   "metadata": {},
   "outputs": [],
   "source": [
    "\n",
    "    "
   ]
  },
  {
   "cell_type": "code",
   "execution_count": 3,
   "id": "e53a631a",
   "metadata": {},
   "outputs": [
    {
     "name": "stdout",
     "output_type": "stream",
     "text": [
      "<class 'pandas.core.frame.DataFrame'>\n",
      "RangeIndex: 1513451 entries, 0 to 1513450\n",
      "Data columns (total 31 columns):\n",
      " #   Column                          Non-Null Count    Dtype  \n",
      "---  ------                          --------------    -----  \n",
      " 0   CAD_INCIDENT_ID                 1513451 non-null  int64  \n",
      " 1   INCIDENT_DATETIME               1513451 non-null  object \n",
      " 2   INITIAL_CALL_TYPE               1513451 non-null  object \n",
      " 3   INITIAL_SEVERITY_LEVEL_CODE     1513451 non-null  int64  \n",
      " 4   FINAL_CALL_TYPE                 1513451 non-null  object \n",
      " 5   FINAL_SEVERITY_LEVEL_CODE       1513451 non-null  int64  \n",
      " 6   FIRST_ASSIGNMENT_DATETIME       1503080 non-null  object \n",
      " 7   VALID_DISPATCH_RSPNS_TIME_INDC  1513451 non-null  object \n",
      " 8   DISPATCH_RESPONSE_SECONDS_QY    1513451 non-null  int64  \n",
      " 9   FIRST_ACTIVATION_DATETIME       1501006 non-null  object \n",
      " 10  FIRST_ON_SCENE_DATETIME         1464228 non-null  object \n",
      " 11  VALID_INCIDENT_RSPNS_TIME_INDC  1513451 non-null  object \n",
      " 12  INCIDENT_RESPONSE_SECONDS_QY    1464060 non-null  float64\n",
      " 13  INCIDENT_TRAVEL_TM_SECONDS_QY   1464206 non-null  float64\n",
      " 14  FIRST_TO_HOSP_DATETIME          940166 non-null   object \n",
      " 15  FIRST_HOSP_ARRIVAL_DATETIME     935539 non-null   object \n",
      " 16  INCIDENT_CLOSE_DATETIME         1513209 non-null  object \n",
      " 17  HELD_INDICATOR                  1513451 non-null  object \n",
      " 18  INCIDENT_DISPOSITION_CODE       1501856 non-null  float64\n",
      " 19  BOROUGH                         1513451 non-null  object \n",
      " 20  INCIDENT_DISPATCH_AREA          1513451 non-null  object \n",
      " 21  ZIPCODE                         1489121 non-null  float64\n",
      " 22  POLICEPRECINCT                  1489166 non-null  float64\n",
      " 23  CITYCOUNCILDISTRICT             1489166 non-null  float64\n",
      " 24  COMMUNITYDISTRICT               1489165 non-null  float64\n",
      " 25  COMMUNITYSCHOOLDISTRICT         1488022 non-null  float64\n",
      " 26  CONGRESSIONALDISTRICT           1489166 non-null  float64\n",
      " 27  REOPEN_INDICATOR                1513451 non-null  object \n",
      " 28  SPECIAL_EVENT_INDICATOR         1513451 non-null  object \n",
      " 29  STANDBY_INDICATOR               1513451 non-null  object \n",
      " 30  TRANSFER_INDICATOR              1513451 non-null  object \n",
      "dtypes: float64(9), int64(4), object(18)\n",
      "memory usage: 357.9+ MB\n"
     ]
    }
   ],
   "source": [
    "df.info()"
   ]
  },
  {
   "cell_type": "code",
   "execution_count": null,
   "id": "ced13510",
   "metadata": {},
   "outputs": [],
   "source": [
    "df.describe()"
   ]
  },
  {
   "cell_type": "code",
   "execution_count": null,
   "id": "43b69988",
   "metadata": {},
   "outputs": [],
   "source": [
    "df[\"INCIDENT_RESPONSE_SECONDS_QY\"].median()"
   ]
  },
  {
   "cell_type": "code",
   "execution_count": 4,
   "id": "3502f384",
   "metadata": {},
   "outputs": [],
   "source": [
    "zip_gb = df.groupby(\"ZIPCODE\")"
   ]
  },
  {
   "cell_type": "code",
   "execution_count": null,
   "id": "8b772105",
   "metadata": {},
   "outputs": [],
   "source": [
    "zip_gb.describe()"
   ]
  },
  {
   "cell_type": "code",
   "execution_count": 5,
   "id": "8e56cf51",
   "metadata": {},
   "outputs": [],
   "source": [
    "mean_zip=zip_gb.mean()"
   ]
  },
  {
   "cell_type": "code",
   "execution_count": null,
   "id": "3ae16608",
   "metadata": {},
   "outputs": [],
   "source": [
    "mean_zip"
   ]
  },
  {
   "cell_type": "code",
   "execution_count": null,
   "id": "76b51603",
   "metadata": {},
   "outputs": [],
   "source": [
    "mean_zip.to_csv(\"ems data by zip2\", index = True, encoding = \"UTF8\")"
   ]
  },
  {
   "cell_type": "code",
   "execution_count": null,
   "id": "5f35ac91",
   "metadata": {},
   "outputs": [],
   "source": []
  },
  {
   "cell_type": "code",
   "execution_count": 6,
   "id": "35838439",
   "metadata": {},
   "outputs": [],
   "source": [
    "df[\"INCIDENT_DATETIME\"]=pd.to_datetime(df[\"INCIDENT_DATETIME\"])"
   ]
  },
  {
   "cell_type": "code",
   "execution_count": 7,
   "id": "429c8f1d",
   "metadata": {},
   "outputs": [],
   "source": [
    "df[\"FIRST_ON_SCENE_DATETIME\"]=pd.to_datetime(df[\"FIRST_ON_SCENE_DATETIME\"])"
   ]
  },
  {
   "cell_type": "code",
   "execution_count": 8,
   "id": "6679e09d",
   "metadata": {},
   "outputs": [],
   "source": [
    "df[\"FIRST_TO_HOSP_DATETIME\"]=pd.to_datetime(df[\"FIRST_TO_HOSP_DATETIME\"])"
   ]
  },
  {
   "cell_type": "code",
   "execution_count": 9,
   "id": "32343d44",
   "metadata": {},
   "outputs": [
    {
     "name": "stdout",
     "output_type": "stream",
     "text": [
      "<class 'pandas.core.frame.DataFrame'>\n",
      "RangeIndex: 1513451 entries, 0 to 1513450\n",
      "Data columns (total 31 columns):\n",
      " #   Column                          Non-Null Count    Dtype         \n",
      "---  ------                          --------------    -----         \n",
      " 0   CAD_INCIDENT_ID                 1513451 non-null  int64         \n",
      " 1   INCIDENT_DATETIME               1513451 non-null  datetime64[ns]\n",
      " 2   INITIAL_CALL_TYPE               1513451 non-null  object        \n",
      " 3   INITIAL_SEVERITY_LEVEL_CODE     1513451 non-null  int64         \n",
      " 4   FINAL_CALL_TYPE                 1513451 non-null  object        \n",
      " 5   FINAL_SEVERITY_LEVEL_CODE       1513451 non-null  int64         \n",
      " 6   FIRST_ASSIGNMENT_DATETIME       1503080 non-null  object        \n",
      " 7   VALID_DISPATCH_RSPNS_TIME_INDC  1513451 non-null  object        \n",
      " 8   DISPATCH_RESPONSE_SECONDS_QY    1513451 non-null  int64         \n",
      " 9   FIRST_ACTIVATION_DATETIME       1501006 non-null  object        \n",
      " 10  FIRST_ON_SCENE_DATETIME         1464228 non-null  datetime64[ns]\n",
      " 11  VALID_INCIDENT_RSPNS_TIME_INDC  1513451 non-null  object        \n",
      " 12  INCIDENT_RESPONSE_SECONDS_QY    1464060 non-null  float64       \n",
      " 13  INCIDENT_TRAVEL_TM_SECONDS_QY   1464206 non-null  float64       \n",
      " 14  FIRST_TO_HOSP_DATETIME          940166 non-null   datetime64[ns]\n",
      " 15  FIRST_HOSP_ARRIVAL_DATETIME     935539 non-null   object        \n",
      " 16  INCIDENT_CLOSE_DATETIME         1513209 non-null  object        \n",
      " 17  HELD_INDICATOR                  1513451 non-null  object        \n",
      " 18  INCIDENT_DISPOSITION_CODE       1501856 non-null  float64       \n",
      " 19  BOROUGH                         1513451 non-null  object        \n",
      " 20  INCIDENT_DISPATCH_AREA          1513451 non-null  object        \n",
      " 21  ZIPCODE                         1489121 non-null  float64       \n",
      " 22  POLICEPRECINCT                  1489166 non-null  float64       \n",
      " 23  CITYCOUNCILDISTRICT             1489166 non-null  float64       \n",
      " 24  COMMUNITYDISTRICT               1489165 non-null  float64       \n",
      " 25  COMMUNITYSCHOOLDISTRICT         1488022 non-null  float64       \n",
      " 26  CONGRESSIONALDISTRICT           1489166 non-null  float64       \n",
      " 27  REOPEN_INDICATOR                1513451 non-null  object        \n",
      " 28  SPECIAL_EVENT_INDICATOR         1513451 non-null  object        \n",
      " 29  STANDBY_INDICATOR               1513451 non-null  object        \n",
      " 30  TRANSFER_INDICATOR              1513451 non-null  object        \n",
      "dtypes: datetime64[ns](3), float64(9), int64(4), object(15)\n",
      "memory usage: 357.9+ MB\n"
     ]
    }
   ],
   "source": [
    "df.info()"
   ]
  },
  {
   "cell_type": "code",
   "execution_count": 10,
   "id": "39692bd7",
   "metadata": {},
   "outputs": [],
   "source": [
    "df[\"FIRST_HOSP_ARRIVAL_DATETIME\"]=pd.to_datetime(df[\"FIRST_HOSP_ARRIVAL_DATETIME\"])\n"
   ]
  },
  {
   "cell_type": "code",
   "execution_count": 11,
   "id": "4139b57c",
   "metadata": {},
   "outputs": [],
   "source": [
    "df[\"HOSPITAL_TRAVEL\"]=df[\"FIRST_HOSP_ARRIVAL_DATETIME\"]-df[\"FIRST_TO_HOSP_DATETIME\"]"
   ]
  },
  {
   "cell_type": "code",
   "execution_count": 13,
   "id": "ea3660a1",
   "metadata": {},
   "outputs": [
    {
     "name": "stdout",
     "output_type": "stream",
     "text": [
      "<class 'pandas.core.frame.DataFrame'>\n",
      "RangeIndex: 1513451 entries, 0 to 1513450\n",
      "Data columns (total 32 columns):\n",
      " #   Column                          Non-Null Count    Dtype          \n",
      "---  ------                          --------------    -----          \n",
      " 0   CAD_INCIDENT_ID                 1513451 non-null  int64          \n",
      " 1   INCIDENT_DATETIME               1513451 non-null  datetime64[ns] \n",
      " 2   INITIAL_CALL_TYPE               1513451 non-null  object         \n",
      " 3   INITIAL_SEVERITY_LEVEL_CODE     1513451 non-null  int64          \n",
      " 4   FINAL_CALL_TYPE                 1513451 non-null  object         \n",
      " 5   FINAL_SEVERITY_LEVEL_CODE       1513451 non-null  int64          \n",
      " 6   FIRST_ASSIGNMENT_DATETIME       1503080 non-null  object         \n",
      " 7   VALID_DISPATCH_RSPNS_TIME_INDC  1513451 non-null  object         \n",
      " 8   DISPATCH_RESPONSE_SECONDS_QY    1513451 non-null  int64          \n",
      " 9   FIRST_ACTIVATION_DATETIME       1501006 non-null  object         \n",
      " 10  FIRST_ON_SCENE_DATETIME         1464228 non-null  datetime64[ns] \n",
      " 11  VALID_INCIDENT_RSPNS_TIME_INDC  1513451 non-null  object         \n",
      " 12  INCIDENT_RESPONSE_SECONDS_QY    1464060 non-null  float64        \n",
      " 13  INCIDENT_TRAVEL_TM_SECONDS_QY   1464206 non-null  float64        \n",
      " 14  FIRST_TO_HOSP_DATETIME          940166 non-null   datetime64[ns] \n",
      " 15  FIRST_HOSP_ARRIVAL_DATETIME     935539 non-null   datetime64[ns] \n",
      " 16  INCIDENT_CLOSE_DATETIME         1513209 non-null  object         \n",
      " 17  HELD_INDICATOR                  1513451 non-null  object         \n",
      " 18  INCIDENT_DISPOSITION_CODE       1501856 non-null  float64        \n",
      " 19  BOROUGH                         1513451 non-null  object         \n",
      " 20  INCIDENT_DISPATCH_AREA          1513451 non-null  object         \n",
      " 21  ZIPCODE                         1489121 non-null  float64        \n",
      " 22  POLICEPRECINCT                  1489166 non-null  float64        \n",
      " 23  CITYCOUNCILDISTRICT             1489166 non-null  float64        \n",
      " 24  COMMUNITYDISTRICT               1489165 non-null  float64        \n",
      " 25  COMMUNITYSCHOOLDISTRICT         1488022 non-null  float64        \n",
      " 26  CONGRESSIONALDISTRICT           1489166 non-null  float64        \n",
      " 27  REOPEN_INDICATOR                1513451 non-null  object         \n",
      " 28  SPECIAL_EVENT_INDICATOR         1513451 non-null  object         \n",
      " 29  STANDBY_INDICATOR               1513451 non-null  object         \n",
      " 30  TRANSFER_INDICATOR              1513451 non-null  object         \n",
      " 31  HOSPITAL_TRAVEL                 935539 non-null   timedelta64[ns]\n",
      "dtypes: datetime64[ns](4), float64(9), int64(4), object(14), timedelta64[ns](1)\n",
      "memory usage: 369.5+ MB\n"
     ]
    }
   ],
   "source": [
    "df.info()"
   ]
  },
  {
   "cell_type": "code",
   "execution_count": 14,
   "id": "f2deb479",
   "metadata": {},
   "outputs": [],
   "source": [
    "df[\"HOSPITAL_TRAVEL\"]=df[\"HOSPITAL_TRAVEL\"].dt.total_seconds()"
   ]
  },
  {
   "cell_type": "code",
   "execution_count": 15,
   "id": "f2aa8308",
   "metadata": {},
   "outputs": [
    {
     "name": "stdout",
     "output_type": "stream",
     "text": [
      "<class 'pandas.core.frame.DataFrame'>\n",
      "RangeIndex: 1513451 entries, 0 to 1513450\n",
      "Data columns (total 32 columns):\n",
      " #   Column                          Non-Null Count    Dtype         \n",
      "---  ------                          --------------    -----         \n",
      " 0   CAD_INCIDENT_ID                 1513451 non-null  int64         \n",
      " 1   INCIDENT_DATETIME               1513451 non-null  datetime64[ns]\n",
      " 2   INITIAL_CALL_TYPE               1513451 non-null  object        \n",
      " 3   INITIAL_SEVERITY_LEVEL_CODE     1513451 non-null  int64         \n",
      " 4   FINAL_CALL_TYPE                 1513451 non-null  object        \n",
      " 5   FINAL_SEVERITY_LEVEL_CODE       1513451 non-null  int64         \n",
      " 6   FIRST_ASSIGNMENT_DATETIME       1503080 non-null  object        \n",
      " 7   VALID_DISPATCH_RSPNS_TIME_INDC  1513451 non-null  object        \n",
      " 8   DISPATCH_RESPONSE_SECONDS_QY    1513451 non-null  int64         \n",
      " 9   FIRST_ACTIVATION_DATETIME       1501006 non-null  object        \n",
      " 10  FIRST_ON_SCENE_DATETIME         1464228 non-null  datetime64[ns]\n",
      " 11  VALID_INCIDENT_RSPNS_TIME_INDC  1513451 non-null  object        \n",
      " 12  INCIDENT_RESPONSE_SECONDS_QY    1464060 non-null  float64       \n",
      " 13  INCIDENT_TRAVEL_TM_SECONDS_QY   1464206 non-null  float64       \n",
      " 14  FIRST_TO_HOSP_DATETIME          940166 non-null   datetime64[ns]\n",
      " 15  FIRST_HOSP_ARRIVAL_DATETIME     935539 non-null   datetime64[ns]\n",
      " 16  INCIDENT_CLOSE_DATETIME         1513209 non-null  object        \n",
      " 17  HELD_INDICATOR                  1513451 non-null  object        \n",
      " 18  INCIDENT_DISPOSITION_CODE       1501856 non-null  float64       \n",
      " 19  BOROUGH                         1513451 non-null  object        \n",
      " 20  INCIDENT_DISPATCH_AREA          1513451 non-null  object        \n",
      " 21  ZIPCODE                         1489121 non-null  float64       \n",
      " 22  POLICEPRECINCT                  1489166 non-null  float64       \n",
      " 23  CITYCOUNCILDISTRICT             1489166 non-null  float64       \n",
      " 24  COMMUNITYDISTRICT               1489165 non-null  float64       \n",
      " 25  COMMUNITYSCHOOLDISTRICT         1488022 non-null  float64       \n",
      " 26  CONGRESSIONALDISTRICT           1489166 non-null  float64       \n",
      " 27  REOPEN_INDICATOR                1513451 non-null  object        \n",
      " 28  SPECIAL_EVENT_INDICATOR         1513451 non-null  object        \n",
      " 29  STANDBY_INDICATOR               1513451 non-null  object        \n",
      " 30  TRANSFER_INDICATOR              1513451 non-null  object        \n",
      " 31  HOSPITAL_TRAVEL                 935539 non-null   float64       \n",
      "dtypes: datetime64[ns](4), float64(10), int64(4), object(14)\n",
      "memory usage: 369.5+ MB\n"
     ]
    }
   ],
   "source": [
    "df.info()"
   ]
  },
  {
   "cell_type": "code",
   "execution_count": 35,
   "id": "000f91ff",
   "metadata": {},
   "outputs": [],
   "source": [
    "df[\"HOSPITAL_TRAVEL_Act\"]=df[\"INCIDENT_DISPOSITION_CODE\"].apply\\\n",
    "(lambda x : 'df[`HOSPITAL_TRAVEL`]' if x == 82 else np.nan)\n",
    "\n",
    "\n",
    "                \n",
    "    \n"
   ]
  },
  {
   "cell_type": "code",
   "execution_count": 27,
   "id": "f78f8901",
   "metadata": {},
   "outputs": [
    {
     "data": {
      "text/html": [
       "<div>\n",
       "<style scoped>\n",
       "    .dataframe tbody tr th:only-of-type {\n",
       "        vertical-align: middle;\n",
       "    }\n",
       "\n",
       "    .dataframe tbody tr th {\n",
       "        vertical-align: top;\n",
       "    }\n",
       "\n",
       "    .dataframe thead th {\n",
       "        text-align: right;\n",
       "    }\n",
       "</style>\n",
       "<table border=\"1\" class=\"dataframe\">\n",
       "  <thead>\n",
       "    <tr style=\"text-align: right;\">\n",
       "      <th></th>\n",
       "      <th>CAD_INCIDENT_ID</th>\n",
       "      <th>INITIAL_SEVERITY_LEVEL_CODE</th>\n",
       "      <th>FINAL_SEVERITY_LEVEL_CODE</th>\n",
       "      <th>DISPATCH_RESPONSE_SECONDS_QY</th>\n",
       "      <th>INCIDENT_RESPONSE_SECONDS_QY</th>\n",
       "      <th>INCIDENT_TRAVEL_TM_SECONDS_QY</th>\n",
       "      <th>INCIDENT_DISPOSITION_CODE</th>\n",
       "      <th>ZIPCODE</th>\n",
       "      <th>POLICEPRECINCT</th>\n",
       "      <th>CITYCOUNCILDISTRICT</th>\n",
       "      <th>COMMUNITYDISTRICT</th>\n",
       "      <th>COMMUNITYSCHOOLDISTRICT</th>\n",
       "      <th>CONGRESSIONALDISTRICT</th>\n",
       "      <th>HOSPITAL_TRAVEL</th>\n",
       "    </tr>\n",
       "  </thead>\n",
       "  <tbody>\n",
       "    <tr>\n",
       "      <th>count</th>\n",
       "      <td>1,513,451</td>\n",
       "      <td>1,513,451</td>\n",
       "      <td>1,513,451</td>\n",
       "      <td>1,513,451</td>\n",
       "      <td>1,464,060</td>\n",
       "      <td>1,464,206</td>\n",
       "      <td>1,501,856</td>\n",
       "      <td>1,489,121</td>\n",
       "      <td>1,489,166</td>\n",
       "      <td>1,489,166</td>\n",
       "      <td>1,489,165</td>\n",
       "      <td>1,488,022</td>\n",
       "      <td>1,489,166</td>\n",
       "      <td>935,539</td>\n",
       "    </tr>\n",
       "    <tr>\n",
       "      <th>mean</th>\n",
       "      <td>214,221,721</td>\n",
       "      <td>4</td>\n",
       "      <td>4</td>\n",
       "      <td>65</td>\n",
       "      <td>541</td>\n",
       "      <td>477</td>\n",
       "      <td>86</td>\n",
       "      <td>10,737</td>\n",
       "      <td>62</td>\n",
       "      <td>23</td>\n",
       "      <td>263</td>\n",
       "      <td>15</td>\n",
       "      <td>11</td>\n",
       "      <td>721</td>\n",
       "    </tr>\n",
       "    <tr>\n",
       "      <th>std</th>\n",
       "      <td>3,541,315</td>\n",
       "      <td>2</td>\n",
       "      <td>2</td>\n",
       "      <td>462</td>\n",
       "      <td>589</td>\n",
       "      <td>340</td>\n",
       "      <td>5</td>\n",
       "      <td>549</td>\n",
       "      <td>34</td>\n",
       "      <td>15</td>\n",
       "      <td>118</td>\n",
       "      <td>10</td>\n",
       "      <td>3</td>\n",
       "      <td>425</td>\n",
       "    </tr>\n",
       "    <tr>\n",
       "      <th>min</th>\n",
       "      <td>210,900,005</td>\n",
       "      <td>1</td>\n",
       "      <td>1</td>\n",
       "      <td>0</td>\n",
       "      <td>0</td>\n",
       "      <td>0</td>\n",
       "      <td>82</td>\n",
       "      <td>83</td>\n",
       "      <td>1</td>\n",
       "      <td>1</td>\n",
       "      <td>101</td>\n",
       "      <td>1</td>\n",
       "      <td>3</td>\n",
       "      <td>0</td>\n",
       "    </tr>\n",
       "    <tr>\n",
       "      <th>25%</th>\n",
       "      <td>211,820,414</td>\n",
       "      <td>3</td>\n",
       "      <td>3</td>\n",
       "      <td>11</td>\n",
       "      <td>313</td>\n",
       "      <td>286</td>\n",
       "      <td>82</td>\n",
       "      <td>10,301</td>\n",
       "      <td>40</td>\n",
       "      <td>10</td>\n",
       "      <td>201</td>\n",
       "      <td>7</td>\n",
       "      <td>8</td>\n",
       "      <td>422</td>\n",
       "    </tr>\n",
       "    <tr>\n",
       "      <th>50%</th>\n",
       "      <td>212,704,654</td>\n",
       "      <td>4</td>\n",
       "      <td>4</td>\n",
       "      <td>18</td>\n",
       "      <td>441</td>\n",
       "      <td>408</td>\n",
       "      <td>82</td>\n",
       "      <td>10,471</td>\n",
       "      <td>60</td>\n",
       "      <td>20</td>\n",
       "      <td>301</td>\n",
       "      <td>13</td>\n",
       "      <td>11</td>\n",
       "      <td>643</td>\n",
       "    </tr>\n",
       "    <tr>\n",
       "      <th>75%</th>\n",
       "      <td>213,614,642</td>\n",
       "      <td>6</td>\n",
       "      <td>6</td>\n",
       "      <td>37</td>\n",
       "      <td>623</td>\n",
       "      <td>577</td>\n",
       "      <td>91</td>\n",
       "      <td>11,226</td>\n",
       "      <td>90</td>\n",
       "      <td>36</td>\n",
       "      <td>318</td>\n",
       "      <td>23</td>\n",
       "      <td>13</td>\n",
       "      <td>925</td>\n",
       "    </tr>\n",
       "    <tr>\n",
       "      <th>max</th>\n",
       "      <td>220,895,105</td>\n",
       "      <td>9</td>\n",
       "      <td>8</td>\n",
       "      <td>32,268</td>\n",
       "      <td>32,313</td>\n",
       "      <td>28,574</td>\n",
       "      <td>96</td>\n",
       "      <td>12,345</td>\n",
       "      <td>123</td>\n",
       "      <td>51</td>\n",
       "      <td>595</td>\n",
       "      <td>32</td>\n",
       "      <td>16</td>\n",
       "      <td>9,716</td>\n",
       "    </tr>\n",
       "  </tbody>\n",
       "</table>\n",
       "</div>"
      ],
      "text/plain": [
       "       CAD_INCIDENT_ID  INITIAL_SEVERITY_LEVEL_CODE  \\\n",
       "count        1,513,451                    1,513,451   \n",
       "mean       214,221,721                            4   \n",
       "std          3,541,315                            2   \n",
       "min        210,900,005                            1   \n",
       "25%        211,820,414                            3   \n",
       "50%        212,704,654                            4   \n",
       "75%        213,614,642                            6   \n",
       "max        220,895,105                            9   \n",
       "\n",
       "       FINAL_SEVERITY_LEVEL_CODE  DISPATCH_RESPONSE_SECONDS_QY  \\\n",
       "count                  1,513,451                     1,513,451   \n",
       "mean                           4                            65   \n",
       "std                            2                           462   \n",
       "min                            1                             0   \n",
       "25%                            3                            11   \n",
       "50%                            4                            18   \n",
       "75%                            6                            37   \n",
       "max                            8                        32,268   \n",
       "\n",
       "       INCIDENT_RESPONSE_SECONDS_QY  INCIDENT_TRAVEL_TM_SECONDS_QY  \\\n",
       "count                     1,464,060                      1,464,206   \n",
       "mean                            541                            477   \n",
       "std                             589                            340   \n",
       "min                               0                              0   \n",
       "25%                             313                            286   \n",
       "50%                             441                            408   \n",
       "75%                             623                            577   \n",
       "max                          32,313                         28,574   \n",
       "\n",
       "       INCIDENT_DISPOSITION_CODE   ZIPCODE  POLICEPRECINCT  \\\n",
       "count                  1,501,856 1,489,121       1,489,166   \n",
       "mean                          86    10,737              62   \n",
       "std                            5       549              34   \n",
       "min                           82        83               1   \n",
       "25%                           82    10,301              40   \n",
       "50%                           82    10,471              60   \n",
       "75%                           91    11,226              90   \n",
       "max                           96    12,345             123   \n",
       "\n",
       "       CITYCOUNCILDISTRICT  COMMUNITYDISTRICT  COMMUNITYSCHOOLDISTRICT  \\\n",
       "count            1,489,166          1,489,165                1,488,022   \n",
       "mean                    23                263                       15   \n",
       "std                     15                118                       10   \n",
       "min                      1                101                        1   \n",
       "25%                     10                201                        7   \n",
       "50%                     20                301                       13   \n",
       "75%                     36                318                       23   \n",
       "max                     51                595                       32   \n",
       "\n",
       "       CONGRESSIONALDISTRICT  HOSPITAL_TRAVEL  \n",
       "count              1,489,166          935,539  \n",
       "mean                      11              721  \n",
       "std                        3              425  \n",
       "min                        3                0  \n",
       "25%                        8              422  \n",
       "50%                       11              643  \n",
       "75%                       13              925  \n",
       "max                       16            9,716  "
      ]
     },
     "execution_count": 27,
     "metadata": {},
     "output_type": "execute_result"
    }
   ],
   "source": [
    "df.describe()"
   ]
  },
  {
   "cell_type": "code",
   "execution_count": 21,
   "id": "035fe82d",
   "metadata": {},
   "outputs": [
    {
     "name": "stdout",
     "output_type": "stream",
     "text": [
      "<class 'pandas.core.frame.DataFrame'>\n",
      "RangeIndex: 1513451 entries, 0 to 1513450\n",
      "Data columns (total 33 columns):\n",
      " #   Column                          Non-Null Count    Dtype         \n",
      "---  ------                          --------------    -----         \n",
      " 0   CAD_INCIDENT_ID                 1513451 non-null  int64         \n",
      " 1   INCIDENT_DATETIME               1513451 non-null  datetime64[ns]\n",
      " 2   INITIAL_CALL_TYPE               1513451 non-null  object        \n",
      " 3   INITIAL_SEVERITY_LEVEL_CODE     1513451 non-null  int64         \n",
      " 4   FINAL_CALL_TYPE                 1513451 non-null  object        \n",
      " 5   FINAL_SEVERITY_LEVEL_CODE       1513451 non-null  int64         \n",
      " 6   FIRST_ASSIGNMENT_DATETIME       1503080 non-null  object        \n",
      " 7   VALID_DISPATCH_RSPNS_TIME_INDC  1513451 non-null  object        \n",
      " 8   DISPATCH_RESPONSE_SECONDS_QY    1513451 non-null  int64         \n",
      " 9   FIRST_ACTIVATION_DATETIME       1501006 non-null  object        \n",
      " 10  FIRST_ON_SCENE_DATETIME         1464228 non-null  datetime64[ns]\n",
      " 11  VALID_INCIDENT_RSPNS_TIME_INDC  1513451 non-null  object        \n",
      " 12  INCIDENT_RESPONSE_SECONDS_QY    1464060 non-null  float64       \n",
      " 13  INCIDENT_TRAVEL_TM_SECONDS_QY   1464206 non-null  float64       \n",
      " 14  FIRST_TO_HOSP_DATETIME          940166 non-null   datetime64[ns]\n",
      " 15  FIRST_HOSP_ARRIVAL_DATETIME     935539 non-null   datetime64[ns]\n",
      " 16  INCIDENT_CLOSE_DATETIME         1513209 non-null  object        \n",
      " 17  HELD_INDICATOR                  1513451 non-null  object        \n",
      " 18  INCIDENT_DISPOSITION_CODE       1501856 non-null  float64       \n",
      " 19  BOROUGH                         1513451 non-null  object        \n",
      " 20  INCIDENT_DISPATCH_AREA          1513451 non-null  object        \n",
      " 21  ZIPCODE                         1489121 non-null  float64       \n",
      " 22  POLICEPRECINCT                  1489166 non-null  float64       \n",
      " 23  CITYCOUNCILDISTRICT             1489166 non-null  float64       \n",
      " 24  COMMUNITYDISTRICT               1489165 non-null  float64       \n",
      " 25  COMMUNITYSCHOOLDISTRICT         1488022 non-null  float64       \n",
      " 26  CONGRESSIONALDISTRICT           1489166 non-null  float64       \n",
      " 27  REOPEN_INDICATOR                1513451 non-null  object        \n",
      " 28  SPECIAL_EVENT_INDICATOR         1513451 non-null  object        \n",
      " 29  STANDBY_INDICATOR               1513451 non-null  object        \n",
      " 30  TRANSFER_INDICATOR              1513451 non-null  object        \n",
      " 31  HOSPITAL_TRAVEL                 935539 non-null   float64       \n",
      " 32  HOSPITAL_TRAVEL_Act             941304 non-null   object        \n",
      "dtypes: datetime64[ns](4), float64(10), int64(4), object(15)\n",
      "memory usage: 381.0+ MB\n"
     ]
    }
   ],
   "source": [
    "df.info()\n"
   ]
  },
  {
   "cell_type": "code",
   "execution_count": 26,
   "id": "7ff785f5",
   "metadata": {},
   "outputs": [],
   "source": [
    "zip_gb_mean = df.groupby(\"ZIPCODE\").mean()\n"
   ]
  },
  {
   "cell_type": "code",
   "execution_count": null,
   "id": "0f78ffe0",
   "metadata": {},
   "outputs": [],
   "source": []
  },
  {
   "cell_type": "code",
   "execution_count": 25,
   "id": "205281a7",
   "metadata": {},
   "outputs": [],
   "source": [
    "zip_gb_mean.to_csv(\"ems data by zip3\", index = True, encoding = \"UTF8\")"
   ]
  },
  {
   "cell_type": "code",
   "execution_count": null,
   "id": "814d15a7",
   "metadata": {},
   "outputs": [],
   "source": [
    "\n"
   ]
  },
  {
   "cell_type": "code",
   "execution_count": 28,
   "id": "05aa18ca",
   "metadata": {},
   "outputs": [],
   "source": [
    "df_sub=df[[\"INCIDENT_DATETIME\", \"INCIDENT_RESPONSE_SECONDS_QY\",\"FIRST_TO_HOSP_DATETIME\",\\\n",
    "           \"FIRST_HOSP_ARRIVAL_DATETIME\", \"HELD_INDICATOR\",\"HOSPITAL_TRAVEL\", \"ZIPCODE\", \"INCIDENT_DISPOSITION_CODE\" ]]"
   ]
  },
  {
   "cell_type": "code",
   "execution_count": 29,
   "id": "409b77c3",
   "metadata": {},
   "outputs": [
    {
     "name": "stdout",
     "output_type": "stream",
     "text": [
      "<class 'pandas.core.frame.DataFrame'>\n",
      "RangeIndex: 1513451 entries, 0 to 1513450\n",
      "Data columns (total 8 columns):\n",
      " #   Column                        Non-Null Count    Dtype         \n",
      "---  ------                        --------------    -----         \n",
      " 0   INCIDENT_DATETIME             1513451 non-null  datetime64[ns]\n",
      " 1   INCIDENT_RESPONSE_SECONDS_QY  1464060 non-null  float64       \n",
      " 2   FIRST_TO_HOSP_DATETIME        940166 non-null   datetime64[ns]\n",
      " 3   FIRST_HOSP_ARRIVAL_DATETIME   935539 non-null   datetime64[ns]\n",
      " 4   HELD_INDICATOR                1513451 non-null  object        \n",
      " 5   HOSPITAL_TRAVEL               935539 non-null   float64       \n",
      " 6   ZIPCODE                       1489121 non-null  float64       \n",
      " 7   INCIDENT_DISPOSITION_CODE     1501856 non-null  float64       \n",
      "dtypes: datetime64[ns](3), float64(4), object(1)\n",
      "memory usage: 92.4+ MB\n"
     ]
    }
   ],
   "source": [
    "df_sub.info()"
   ]
  },
  {
   "cell_type": "code",
   "execution_count": 30,
   "id": "ba79c834",
   "metadata": {},
   "outputs": [
    {
     "data": {
      "text/html": [
       "<div>\n",
       "<style scoped>\n",
       "    .dataframe tbody tr th:only-of-type {\n",
       "        vertical-align: middle;\n",
       "    }\n",
       "\n",
       "    .dataframe tbody tr th {\n",
       "        vertical-align: top;\n",
       "    }\n",
       "\n",
       "    .dataframe thead th {\n",
       "        text-align: right;\n",
       "    }\n",
       "</style>\n",
       "<table border=\"1\" class=\"dataframe\">\n",
       "  <thead>\n",
       "    <tr style=\"text-align: right;\">\n",
       "      <th></th>\n",
       "      <th>INCIDENT_RESPONSE_SECONDS_QY</th>\n",
       "      <th>HOSPITAL_TRAVEL</th>\n",
       "      <th>ZIPCODE</th>\n",
       "      <th>INCIDENT_DISPOSITION_CODE</th>\n",
       "    </tr>\n",
       "  </thead>\n",
       "  <tbody>\n",
       "    <tr>\n",
       "      <th>count</th>\n",
       "      <td>1,464,060</td>\n",
       "      <td>935,539</td>\n",
       "      <td>1,489,121</td>\n",
       "      <td>1,501,856</td>\n",
       "    </tr>\n",
       "    <tr>\n",
       "      <th>mean</th>\n",
       "      <td>541</td>\n",
       "      <td>721</td>\n",
       "      <td>10,737</td>\n",
       "      <td>86</td>\n",
       "    </tr>\n",
       "    <tr>\n",
       "      <th>std</th>\n",
       "      <td>589</td>\n",
       "      <td>425</td>\n",
       "      <td>549</td>\n",
       "      <td>5</td>\n",
       "    </tr>\n",
       "    <tr>\n",
       "      <th>min</th>\n",
       "      <td>0</td>\n",
       "      <td>0</td>\n",
       "      <td>83</td>\n",
       "      <td>82</td>\n",
       "    </tr>\n",
       "    <tr>\n",
       "      <th>25%</th>\n",
       "      <td>313</td>\n",
       "      <td>422</td>\n",
       "      <td>10,301</td>\n",
       "      <td>82</td>\n",
       "    </tr>\n",
       "    <tr>\n",
       "      <th>50%</th>\n",
       "      <td>441</td>\n",
       "      <td>643</td>\n",
       "      <td>10,471</td>\n",
       "      <td>82</td>\n",
       "    </tr>\n",
       "    <tr>\n",
       "      <th>75%</th>\n",
       "      <td>623</td>\n",
       "      <td>925</td>\n",
       "      <td>11,226</td>\n",
       "      <td>91</td>\n",
       "    </tr>\n",
       "    <tr>\n",
       "      <th>max</th>\n",
       "      <td>32,313</td>\n",
       "      <td>9,716</td>\n",
       "      <td>12,345</td>\n",
       "      <td>96</td>\n",
       "    </tr>\n",
       "  </tbody>\n",
       "</table>\n",
       "</div>"
      ],
      "text/plain": [
       "       INCIDENT_RESPONSE_SECONDS_QY  HOSPITAL_TRAVEL   ZIPCODE  \\\n",
       "count                     1,464,060          935,539 1,489,121   \n",
       "mean                            541              721    10,737   \n",
       "std                             589              425       549   \n",
       "min                               0                0        83   \n",
       "25%                             313              422    10,301   \n",
       "50%                             441              643    10,471   \n",
       "75%                             623              925    11,226   \n",
       "max                          32,313            9,716    12,345   \n",
       "\n",
       "       INCIDENT_DISPOSITION_CODE  \n",
       "count                  1,501,856  \n",
       "mean                          86  \n",
       "std                            5  \n",
       "min                           82  \n",
       "25%                           82  \n",
       "50%                           82  \n",
       "75%                           91  \n",
       "max                           96  "
      ]
     },
     "execution_count": 30,
     "metadata": {},
     "output_type": "execute_result"
    }
   ],
   "source": [
    "df_sub.describe()"
   ]
  },
  {
   "cell_type": "code",
   "execution_count": null,
   "id": "1a895e3c",
   "metadata": {},
   "outputs": [],
   "source": []
  },
  {
   "cell_type": "code",
   "execution_count": null,
   "id": "97fb791d",
   "metadata": {},
   "outputs": [],
   "source": []
  },
  {
   "cell_type": "code",
   "execution_count": null,
   "id": "85c866e9",
   "metadata": {},
   "outputs": [],
   "source": []
  },
  {
   "cell_type": "code",
   "execution_count": null,
   "id": "dfb5b012",
   "metadata": {},
   "outputs": [],
   "source": []
  },
  {
   "cell_type": "code",
   "execution_count": null,
   "id": "b4e5d74f",
   "metadata": {},
   "outputs": [],
   "source": []
  },
  {
   "cell_type": "code",
   "execution_count": null,
   "id": "028f5b54",
   "metadata": {},
   "outputs": [],
   "source": []
  },
  {
   "cell_type": "code",
   "execution_count": null,
   "id": "a12ee36a",
   "metadata": {},
   "outputs": [],
   "source": []
  },
  {
   "cell_type": "code",
   "execution_count": null,
   "id": "783989d7",
   "metadata": {},
   "outputs": [],
   "source": []
  },
  {
   "cell_type": "code",
   "execution_count": null,
   "id": "16236644",
   "metadata": {},
   "outputs": [],
   "source": []
  },
  {
   "cell_type": "code",
   "execution_count": null,
   "id": "5fded92f",
   "metadata": {},
   "outputs": [],
   "source": []
  },
  {
   "cell_type": "code",
   "execution_count": null,
   "id": "c49cc347",
   "metadata": {},
   "outputs": [],
   "source": []
  },
  {
   "cell_type": "code",
   "execution_count": null,
   "id": "ae4b8ff0",
   "metadata": {},
   "outputs": [],
   "source": []
  },
  {
   "cell_type": "code",
   "execution_count": null,
   "id": "6aa71a46",
   "metadata": {},
   "outputs": [],
   "source": []
  },
  {
   "cell_type": "code",
   "execution_count": null,
   "id": "06dec8ca",
   "metadata": {},
   "outputs": [],
   "source": []
  },
  {
   "cell_type": "code",
   "execution_count": null,
   "id": "cd0843d3",
   "metadata": {},
   "outputs": [],
   "source": []
  },
  {
   "cell_type": "code",
   "execution_count": null,
   "id": "fd06ff2b",
   "metadata": {},
   "outputs": [],
   "source": []
  },
  {
   "cell_type": "code",
   "execution_count": null,
   "id": "b5ad7853",
   "metadata": {},
   "outputs": [],
   "source": []
  },
  {
   "cell_type": "code",
   "execution_count": null,
   "id": "c9a15cae",
   "metadata": {},
   "outputs": [],
   "source": [
    "\n"
   ]
  },
  {
   "cell_type": "code",
   "execution_count": null,
   "id": "440fa10d",
   "metadata": {},
   "outputs": [],
   "source": []
  },
  {
   "cell_type": "code",
   "execution_count": null,
   "id": "aa5225bc",
   "metadata": {},
   "outputs": [],
   "source": [
    "## in rock point, only 81/394 calls resulted in transport (20%)\n",
    "##in total data, 930,794/1,489,121 resulted in transport (62%)\n"
   ]
  },
  {
   "cell_type": "code",
   "execution_count": null,
   "id": "7d6ec7ea",
   "metadata": {},
   "outputs": [],
   "source": []
  },
  {
   "cell_type": "code",
   "execution_count": null,
   "id": "b10859b8",
   "metadata": {},
   "outputs": [],
   "source": []
  },
  {
   "cell_type": "code",
   "execution_count": null,
   "id": "23d6a9d0",
   "metadata": {},
   "outputs": [],
   "source": []
  },
  {
   "cell_type": "code",
   "execution_count": null,
   "id": "021c559c",
   "metadata": {},
   "outputs": [],
   "source": []
  }
 ],
 "metadata": {
  "kernelspec": {
   "display_name": "Python 3 (ipykernel)",
   "language": "python",
   "name": "python3"
  },
  "language_info": {
   "codemirror_mode": {
    "name": "ipython",
    "version": 3
   },
   "file_extension": ".py",
   "mimetype": "text/x-python",
   "name": "python",
   "nbconvert_exporter": "python",
   "pygments_lexer": "ipython3",
   "version": "3.9.13"
  }
 },
 "nbformat": 4,
 "nbformat_minor": 5
}
